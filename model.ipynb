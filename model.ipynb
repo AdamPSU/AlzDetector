{
 "cells": [
  {
   "cell_type": "code",
   "execution_count": null,
   "id": "5189c1e5-fef2-45d2-8031-1f58aea917b0",
   "metadata": {},
   "outputs": [],
   "source": [
    "print('This is the beginning of my Alzheier')"
   ]
  }
 ],
 "metadata": {
  "kernelspec": {
   "display_name": "SparkMagic PySpark",
   "language": "python",
   "name": "pysparkkernel"
  },
  "language_info": {
   "codemirror_mode": {
    "name": "python",
    "version": 3
   },
   "file_extension": ".py",
   "mimetype": "text/x-python",
   "name": "pyspark",
   "pygments_lexer": "python3"
  }
 },
 "nbformat": 4,
 "nbformat_minor": 5
}
